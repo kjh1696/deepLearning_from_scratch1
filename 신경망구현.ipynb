{
 "cells": [
  {
   "cell_type": "code",
   "execution_count": 2,
   "id": "4501fc6c",
   "metadata": {},
   "outputs": [
    {
     "data": {
      "text/plain": [
       "(2,)"
      ]
     },
     "execution_count": 2,
     "metadata": {},
     "output_type": "execute_result"
    }
   ],
   "source": [
    "import numpy as np\n",
    "\n",
    "X = np.array([1,2])\n",
    "X.shape"
   ]
  },
  {
   "cell_type": "code",
   "execution_count": 4,
   "id": "1b72609c",
   "metadata": {},
   "outputs": [
    {
     "name": "stdout",
     "output_type": "stream",
     "text": [
      "[[1 3 5]\n",
      " [2 4 6]]\n"
     ]
    },
    {
     "data": {
      "text/plain": [
       "(2, 3)"
      ]
     },
     "execution_count": 4,
     "metadata": {},
     "output_type": "execute_result"
    }
   ],
   "source": [
    "W = np.array([[1, 3, 5],[2, 4, 6]])\n",
    "print(W)\n",
    "W.shape"
   ]
  },
  {
   "cell_type": "code",
   "execution_count": 6,
   "id": "b6aa79e1",
   "metadata": {},
   "outputs": [
    {
     "name": "stdout",
     "output_type": "stream",
     "text": [
      "[ 5 11 17]\n"
     ]
    }
   ],
   "source": [
    "Y = np.dot(X,W)\n",
    "print(Y)"
   ]
  },
  {
   "cell_type": "markdown",
   "id": "83c1db16",
   "metadata": {},
   "source": [
    "## 행렬의 곱으로 입력값과 가중치의 계산을 한꺼번에 가능하다."
   ]
  },
  {
   "cell_type": "code",
   "execution_count": 10,
   "id": "c0b24e60",
   "metadata": {},
   "outputs": [],
   "source": [
    "X = np.array([1,5])\n",
    "W1 = np.array([[1,2,3],[4,5,6]])\n",
    "W2 = np.array([[2,3],[5,6],[3,4]])"
   ]
  },
  {
   "cell_type": "code",
   "execution_count": 11,
   "id": "ba7821c3",
   "metadata": {},
   "outputs": [],
   "source": [
    "first = np.dot(X,W1)"
   ]
  },
  {
   "cell_type": "code",
   "execution_count": 12,
   "id": "0974c8e5",
   "metadata": {},
   "outputs": [
    {
     "name": "stdout",
     "output_type": "stream",
     "text": [
      "[21 27 33]\n"
     ]
    },
    {
     "data": {
      "text/plain": [
       "(3,)"
      ]
     },
     "execution_count": 12,
     "metadata": {},
     "output_type": "execute_result"
    }
   ],
   "source": [
    "print(first)\n",
    "first.shape"
   ]
  },
  {
   "cell_type": "code",
   "execution_count": 13,
   "id": "bb320ce8",
   "metadata": {},
   "outputs": [],
   "source": [
    "second = np.dot(first,W2)"
   ]
  },
  {
   "cell_type": "code",
   "execution_count": 14,
   "id": "fb4a6534",
   "metadata": {},
   "outputs": [
    {
     "name": "stdout",
     "output_type": "stream",
     "text": [
      "[276 357]\n"
     ]
    },
    {
     "data": {
      "text/plain": [
       "(2,)"
      ]
     },
     "execution_count": 14,
     "metadata": {},
     "output_type": "execute_result"
    }
   ],
   "source": [
    "print(second)\n",
    "second.shape"
   ]
  },
  {
   "cell_type": "markdown",
   "id": "e3ccd5ae",
   "metadata": {},
   "source": [
    "## 적은 코드만으로 위와 같이 3층 신경망을 구현할 수 있다."
   ]
  },
  {
   "cell_type": "markdown",
   "id": "84f11943",
   "metadata": {},
   "source": [
    "## 1층에서 2층으로 가는 신호"
   ]
  },
  {
   "cell_type": "code",
   "execution_count": 19,
   "id": "6240d4ff",
   "metadata": {},
   "outputs": [],
   "source": [
    "def sigmoid(x):\n",
    "    return 1/(1+np.exp(-x))\n",
    "\n",
    "X = np.array([1,2])\n",
    "W1 = np.array([[1,2,3],[2,3,4]])\n",
    "B = np.array([3])"
   ]
  },
  {
   "cell_type": "code",
   "execution_count": 21,
   "id": "158eaf27",
   "metadata": {},
   "outputs": [
    {
     "name": "stdout",
     "output_type": "stream",
     "text": [
      "[ 5  8 11]\n"
     ]
    }
   ],
   "source": [
    "first = np.dot(X,W1) \n",
    "print(first)"
   ]
  },
  {
   "cell_type": "code",
   "execution_count": 22,
   "id": "90038d5b",
   "metadata": {},
   "outputs": [],
   "source": [
    "first += B"
   ]
  },
  {
   "cell_type": "code",
   "execution_count": 23,
   "id": "3edc5946",
   "metadata": {},
   "outputs": [
    {
     "name": "stdout",
     "output_type": "stream",
     "text": [
      "[ 8 11 14]\n"
     ]
    }
   ],
   "source": [
    "print(first)"
   ]
  },
  {
   "cell_type": "code",
   "execution_count": 24,
   "id": "3a941664",
   "metadata": {},
   "outputs": [],
   "source": [
    "first_fun = sigmoid(first)"
   ]
  },
  {
   "cell_type": "code",
   "execution_count": 25,
   "id": "a84ee957",
   "metadata": {},
   "outputs": [
    {
     "name": "stdout",
     "output_type": "stream",
     "text": [
      "[0.99966465 0.9999833  0.99999917]\n"
     ]
    }
   ],
   "source": [
    "print(first_fun)"
   ]
  },
  {
   "cell_type": "code",
   "execution_count": 26,
   "id": "e2424d7f",
   "metadata": {},
   "outputs": [],
   "source": [
    "W2 = np.array([[1,2],[2,3],[3,4]])\n",
    "B2 = np.array([1])"
   ]
  },
  {
   "cell_type": "code",
   "execution_count": 28,
   "id": "ac47a2ed",
   "metadata": {},
   "outputs": [],
   "source": [
    "second = np.dot(first_fun, W2)\n",
    "second += B2"
   ]
  },
  {
   "cell_type": "code",
   "execution_count": 29,
   "id": "277234f5",
   "metadata": {},
   "outputs": [
    {
     "name": "stdout",
     "output_type": "stream",
     "text": [
      "[6.99962875 9.99927587]\n"
     ]
    }
   ],
   "source": [
    "print(second)"
   ]
  },
  {
   "cell_type": "code",
   "execution_count": 30,
   "id": "fd2895c6",
   "metadata": {},
   "outputs": [],
   "source": [
    "second_fun = sigmoid(second)"
   ]
  },
  {
   "cell_type": "code",
   "execution_count": 31,
   "id": "294aad9c",
   "metadata": {},
   "outputs": [
    {
     "name": "stdout",
     "output_type": "stream",
     "text": [
      "[0.99908861 0.99995457]\n"
     ]
    }
   ],
   "source": [
    "print(second_fun)"
   ]
  },
  {
   "cell_type": "code",
   "execution_count": 35,
   "id": "5d51e593",
   "metadata": {},
   "outputs": [],
   "source": [
    "def identity_function(x):\n",
    "    return x\n",
    "\n",
    "def init_network():\n",
    "    network = {}\n",
    "    network['W1'] = np.array([[0.1, 0.3, 0.5],[0.2, 0.5, 0.6]])\n",
    "    network['b1'] = np.array([0.1, 0.2, 0.3])\n",
    "    network['W2'] = np.array([[0.1, 0.4],[0.2, 0.5],[0.3, 0.6]])\n",
    "    network['b2'] = np.array([0.1, 0.2])\n",
    "    network['W3'] = np.array([[0.1,0.3],[0.2,0.4]])\n",
    "    network['b3'] = np.array([0.1,0.2])\n",
    "    \n",
    "    return network\n",
    "\n",
    "def forward(network, x):\n",
    "    W1, W2, W3 = network['W1'], network['W2'], network['W3']\n",
    "    b1, b2, b3 = network['b1'], network['b2'], network['b3']\n",
    "    \n",
    "    a1 = np.dot(x, W1) + b1\n",
    "    z1 = sigmoid(a1)\n",
    "    \n",
    "    a2 = np.dot(z1, W2) + b2\n",
    "    z2 = sigmoid(a2)\n",
    "    \n",
    "    a3 = np.dot(z2, W3) + b3\n",
    "    y = identity_function(a3)\n",
    "    \n",
    "    return y"
   ]
  },
  {
   "cell_type": "code",
   "execution_count": 36,
   "id": "2612cbef",
   "metadata": {},
   "outputs": [],
   "source": [
    "network = init_network()"
   ]
  },
  {
   "cell_type": "code",
   "execution_count": 37,
   "id": "215e9db2",
   "metadata": {},
   "outputs": [],
   "source": [
    "x = np.array([[1.0,0.5]])\n",
    "y = forward(network,x)"
   ]
  },
  {
   "cell_type": "code",
   "execution_count": 38,
   "id": "bd656b63",
   "metadata": {},
   "outputs": [
    {
     "name": "stdout",
     "output_type": "stream",
     "text": [
      "[[0.31707227 0.69682092]]\n"
     ]
    }
   ],
   "source": [
    "print(y)"
   ]
  },
  {
   "cell_type": "markdown",
   "id": "f7c53065",
   "metadata": {},
   "source": [
    "## 소프트맥스 함수의 구현"
   ]
  },
  {
   "cell_type": "code",
   "execution_count": 39,
   "id": "d11cc71a",
   "metadata": {},
   "outputs": [
    {
     "name": "stdout",
     "output_type": "stream",
     "text": [
      "[ 1.34985881 18.17414537 54.59815003]\n"
     ]
    }
   ],
   "source": [
    "a = np.array([0.3,2.9,4.0])\n",
    "exp_a = np.exp(a)\n",
    "print(exp_a)"
   ]
  },
  {
   "cell_type": "code",
   "execution_count": 40,
   "id": "a70e0535",
   "metadata": {},
   "outputs": [
    {
     "name": "stdout",
     "output_type": "stream",
     "text": [
      "74.1221542101633\n"
     ]
    }
   ],
   "source": [
    "sum_exp_a = np.sum(exp_a)\n",
    "print(sum_exp_a)"
   ]
  },
  {
   "cell_type": "code",
   "execution_count": 41,
   "id": "365d7587",
   "metadata": {},
   "outputs": [
    {
     "name": "stdout",
     "output_type": "stream",
     "text": [
      "[0.01821127 0.24519181 0.73659691]\n"
     ]
    }
   ],
   "source": [
    "y = exp_a / sum_exp_a\n",
    "print(y)"
   ]
  },
  {
   "cell_type": "code",
   "execution_count": 42,
   "id": "37c9c94a",
   "metadata": {},
   "outputs": [],
   "source": [
    "def softmax(a):\n",
    "    exp_a = np.exp(a)\n",
    "    sum_exp_a = np.sum(exp_a)\n",
    "    y = exp_a / sum_exp_a\n",
    "    \n",
    "    return y"
   ]
  },
  {
   "cell_type": "markdown",
   "id": "1c096501",
   "metadata": {},
   "source": [
    "## 개선된 소프트맥스 함수의 구현"
   ]
  },
  {
   "cell_type": "code",
   "execution_count": 45,
   "id": "4258a56b",
   "metadata": {},
   "outputs": [],
   "source": [
    "def softmax(a):\n",
    "    max_a = np.max(a)\n",
    "    exp_a = np.exp(a - max_a)\n",
    "    sum_exp_a = np.sum(exp_a)\n",
    "    y = exp_a / sum_exp_a\n",
    "    \n",
    "    return y"
   ]
  },
  {
   "cell_type": "code",
   "execution_count": 46,
   "id": "c649f2f7",
   "metadata": {},
   "outputs": [
    {
     "name": "stdout",
     "output_type": "stream",
     "text": [
      "[0.09003057 0.24472847 0.66524096]\n"
     ]
    }
   ],
   "source": [
    "a = np.array([1,2,3])\n",
    "print(softmax(a))"
   ]
  },
  {
   "cell_type": "code",
   "execution_count": null,
   "id": "a453ae2b",
   "metadata": {},
   "outputs": [],
   "source": []
  }
 ],
 "metadata": {
  "kernelspec": {
   "display_name": "Python 3 (ipykernel)",
   "language": "python",
   "name": "python3"
  },
  "language_info": {
   "codemirror_mode": {
    "name": "ipython",
    "version": 3
   },
   "file_extension": ".py",
   "mimetype": "text/x-python",
   "name": "python",
   "nbconvert_exporter": "python",
   "pygments_lexer": "ipython3",
   "version": "3.9.7"
  }
 },
 "nbformat": 4,
 "nbformat_minor": 5
}
